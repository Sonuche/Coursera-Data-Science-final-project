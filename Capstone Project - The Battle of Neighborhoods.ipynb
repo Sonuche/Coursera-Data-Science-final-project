{
 "cells": [
  {
   "cell_type": "markdown",
   "metadata": {},
   "source": [
    "# Capstone Project - The Battle of Neighborhoods"
   ]
  },
  {
   "cell_type": "markdown",
   "metadata": {},
   "source": [
    "### Recommendations on siting an African Restaurant in Toronto "
   ]
  },
  {
   "cell_type": "markdown",
   "metadata": {},
   "source": [
    "#### Problem Statement\n",
    "\n",
    "Toronto is Ontario's Capital and one of the most diverse cities in Canada and in the world. It is home to people from different parts of the world including individuals of African descent. As a new immigrant myself, I found it difficult to locate restaurants that served African cuisines. The objective of this project is to analyse the spread of African restaurants within Toronto. The purpose is to know what the current distribution is, in order to provide informed data for anyone interested in setting up an African restaurant or just interested in visiting to relish the cuisines."
   ]
  },
  {
   "cell_type": "markdown",
   "metadata": {},
   "source": [
    "#### Data Description\n",
    "\n",
    "The data used in this project will be obtained from foursquare and Wikipedia.\n",
    "The foursquare developer API will be used to explore venue locations (restaurants) in Toronto to determine their spread. I will obtain neighborhood data and ethnicity distribution of Toronto from Wikipedia. This will be scraped into python using the Beautiful Soup Library for cleaning and pre-processing. \n",
    "\n",
    "The distribution of African restaurants as observed from the foursquare API will be compared to the distribution of black population in Toronto neighbourhoods as scraped from Wikipedia to identify if there are any correlations. Insights from this analysis will be drawn and recommendations made appropriately.\n"
   ]
  },
  {
   "cell_type": "code",
   "execution_count": 1,
   "metadata": {},
   "outputs": [],
   "source": [
    "from bs4 import BeautifulSoup\n",
    "import requests\n",
    "import pandas as pd\n",
    "import numpy as np"
   ]
  },
  {
   "cell_type": "code",
   "execution_count": 2,
   "metadata": {},
   "outputs": [],
   "source": [
    "source = requests.get('https://en.wikipedia.org/wiki/List_of_postal_codes_of_Canada:_M').text\n",
    "soup = BeautifulSoup(source, 'lxml')\n",
    "table = soup.find('table', class_ = \"wikitable sortable\").tbody.text"
   ]
  },
  {
   "cell_type": "code",
   "execution_count": 3,
   "metadata": {},
   "outputs": [
    {
     "data": {
      "text/html": [
       "<div>\n",
       "<style scoped>\n",
       "    .dataframe tbody tr th:only-of-type {\n",
       "        vertical-align: middle;\n",
       "    }\n",
       "\n",
       "    .dataframe tbody tr th {\n",
       "        vertical-align: top;\n",
       "    }\n",
       "\n",
       "    .dataframe thead th {\n",
       "        text-align: right;\n",
       "    }\n",
       "</style>\n",
       "<table border=\"1\" class=\"dataframe\">\n",
       "  <thead>\n",
       "    <tr style=\"text-align: right;\">\n",
       "      <th></th>\n",
       "      <th></th>\n",
       "      <th>Postcode</th>\n",
       "      <th>Borough</th>\n",
       "      <th>Neighbourhood</th>\n",
       "    </tr>\n",
       "  </thead>\n",
       "  <tbody>\n",
       "    <tr>\n",
       "      <th>73</th>\n",
       "      <td></td>\n",
       "      <td>M6H</td>\n",
       "      <td>West Toronto</td>\n",
       "      <td>Dufferin</td>\n",
       "    </tr>\n",
       "    <tr>\n",
       "      <th>155</th>\n",
       "      <td></td>\n",
       "      <td>M2P</td>\n",
       "      <td>North York</td>\n",
       "      <td>York Mills West</td>\n",
       "    </tr>\n",
       "    <tr>\n",
       "      <th>232</th>\n",
       "      <td></td>\n",
       "      <td>M9V</td>\n",
       "      <td>Etobicoke</td>\n",
       "      <td>Jamestown</td>\n",
       "    </tr>\n",
       "    <tr>\n",
       "      <th>100</th>\n",
       "      <td></td>\n",
       "      <td>M5K</td>\n",
       "      <td>Downtown Toronto</td>\n",
       "      <td>Design Exchange</td>\n",
       "    </tr>\n",
       "    <tr>\n",
       "      <th>122</th>\n",
       "      <td></td>\n",
       "      <td>M8L</td>\n",
       "      <td>Not assigned</td>\n",
       "      <td>Not assigned</td>\n",
       "    </tr>\n",
       "  </tbody>\n",
       "</table>\n",
       "</div>"
      ],
      "text/plain": [
       "      Postcode           Borough    Neighbourhood\n",
       "73         M6H      West Toronto         Dufferin\n",
       "155        M2P        North York  York Mills West\n",
       "232        M9V         Etobicoke        Jamestown\n",
       "100        M5K  Downtown Toronto  Design Exchange\n",
       "122        M8L      Not assigned     Not assigned"
      ]
     },
     "execution_count": 3,
     "metadata": {},
     "output_type": "execute_result"
    }
   ],
   "source": [
    "table_list = [line.split('\\n') for line in (table.split('\\n\\n'))]\n",
    "\n",
    "df = pd.DataFrame(table_list, columns = table_list[0])\n",
    "df.drop([0,289], inplace= True)#I drop the first and last rows which are the table header and none, repectively\n",
    "\n",
    "df.sample(5)"
   ]
  },
  {
   "cell_type": "markdown",
   "metadata": {},
   "source": [
    "#### Reading an excel file containing the percentage of black population in different ridings of federal electoral districts, based on 2016 census data."
   ]
  },
  {
   "cell_type": "code",
   "execution_count": 5,
   "metadata": {},
   "outputs": [],
   "source": [
    "ridings = pd.read_excel('C:\\\\Users\\\\steph\\\\Documents\\\\ridings_black_pop.xlsx')"
   ]
  },
  {
   "cell_type": "code",
   "execution_count": 8,
   "metadata": {},
   "outputs": [
    {
     "data": {
      "text/html": [
       "<div>\n",
       "<style scoped>\n",
       "    .dataframe tbody tr th:only-of-type {\n",
       "        vertical-align: middle;\n",
       "    }\n",
       "\n",
       "    .dataframe tbody tr th {\n",
       "        vertical-align: top;\n",
       "    }\n",
       "\n",
       "    .dataframe thead th {\n",
       "        text-align: right;\n",
       "    }\n",
       "</style>\n",
       "<table border=\"1\" class=\"dataframe\">\n",
       "  <thead>\n",
       "    <tr style=\"text-align: right;\">\n",
       "      <th></th>\n",
       "      <th>federal electoral district</th>\n",
       "      <th>Riding</th>\n",
       "      <th>Population</th>\n",
       "      <th>black % of population</th>\n",
       "    </tr>\n",
       "  </thead>\n",
       "  <tbody>\n",
       "    <tr>\n",
       "      <th>8</th>\n",
       "      <td>TORONTO &amp; EAST YORK</td>\n",
       "      <td>University-Rosedale</td>\n",
       "      <td>100520</td>\n",
       "      <td>9.1</td>\n",
       "    </tr>\n",
       "    <tr>\n",
       "      <th>17</th>\n",
       "      <td>TORONTO &amp; EAST YORK</td>\n",
       "      <td>Parkdale-High Park</td>\n",
       "      <td>106445</td>\n",
       "      <td>5.3</td>\n",
       "    </tr>\n",
       "    <tr>\n",
       "      <th>5</th>\n",
       "      <td>SCARBOROUGH</td>\n",
       "      <td>Scarborough Southwest</td>\n",
       "      <td>108295</td>\n",
       "      <td>11.2</td>\n",
       "    </tr>\n",
       "    <tr>\n",
       "      <th>15</th>\n",
       "      <td>ETOBICOKE &amp; YORK</td>\n",
       "      <td>Etobicoke Centre</td>\n",
       "      <td>116055</td>\n",
       "      <td>5.9</td>\n",
       "    </tr>\n",
       "    <tr>\n",
       "      <th>2</th>\n",
       "      <td>NORTH YORK</td>\n",
       "      <td>Humber River-Black Creek</td>\n",
       "      <td>107725</td>\n",
       "      <td>22.8</td>\n",
       "    </tr>\n",
       "  </tbody>\n",
       "</table>\n",
       "</div>"
      ],
      "text/plain": [
       "   federal electoral district                    Riding  Population  \\\n",
       "8         TORONTO & EAST YORK       University-Rosedale      100520   \n",
       "17        TORONTO & EAST YORK        Parkdale-High Park      106445   \n",
       "5                 SCARBOROUGH     Scarborough Southwest      108295   \n",
       "15           ETOBICOKE & YORK          Etobicoke Centre      116055   \n",
       "2                  NORTH YORK  Humber River-Black Creek      107725   \n",
       "\n",
       "    black % of population  \n",
       "8                     9.1  \n",
       "17                    5.3  \n",
       "5                    11.2  \n",
       "15                    5.9  \n",
       "2                    22.8  "
      ]
     },
     "execution_count": 8,
     "metadata": {},
     "output_type": "execute_result"
    }
   ],
   "source": [
    "ridings.sample(5)"
   ]
  },
  {
   "cell_type": "code",
   "execution_count": null,
   "metadata": {},
   "outputs": [],
   "source": []
  }
 ],
 "metadata": {
  "kernelspec": {
   "display_name": "Python 3",
   "language": "python",
   "name": "python3"
  },
  "language_info": {
   "codemirror_mode": {
    "name": "ipython",
    "version": 3
   },
   "file_extension": ".py",
   "mimetype": "text/x-python",
   "name": "python",
   "nbconvert_exporter": "python",
   "pygments_lexer": "ipython3",
   "version": "3.6.5"
  }
 },
 "nbformat": 4,
 "nbformat_minor": 2
}
